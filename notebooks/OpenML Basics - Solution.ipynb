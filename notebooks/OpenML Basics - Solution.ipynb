{
 "cells": [
  {
   "cell_type": "markdown",
   "metadata": {
    "colab_type": "text",
    "id": "wrlV3WHw9hKF",
    "slideshow": {
     "slide_type": "slide"
    }
   },
   "source": [
    "# OpenML in Python \n",
    "OpenML is an online collaboration platform for machine learning: \n",
    "\n",
    "* Find or share interesting, well-documented datasets\n",
    "* Define research / modelling goals (tasks)\n",
    "* Explore large amounts of machine learning algorithms, with APIs in Java, R, Python\n",
    "* Log and share reproducible experiments, models, results \n",
    "* Works seamlessly with scikit-learn and other libraries\n",
    "* Large scale benchmarking, compare to state of the art"
   ]
  },
  {
   "cell_type": "markdown",
   "metadata": {
    "colab_type": "text",
    "id": "tGfVXn7q9hKG",
    "slideshow": {
     "slide_type": "slide"
    }
   },
   "source": [
    "# Installation\n",
    "\n",
    "* `pip install openml`"
   ]
  },
  {
   "cell_type": "code",
   "execution_count": null,
   "metadata": {
    "colab": {},
    "colab_type": "code",
    "id": "3QTmbvCn9r87"
   },
   "outputs": [],
   "source": [
    "!pip install openml"
   ]
  },
  {
   "cell_type": "markdown",
   "metadata": {
    "colab_type": "text",
    "id": "QWErwB4i9hKU",
    "slideshow": {
     "slide_type": "subslide"
    }
   },
   "source": [
    "### Exercise\n",
    "- Find datasets with more than 10000 examples\n",
    "- Find a dataset called 'eeg_eye_state'\n",
    "- Find all datasets with more than 50 classes"
   ]
  },
  {
   "cell_type": "code",
   "execution_count": null,
   "metadata": {
    "colab": {},
    "colab_type": "code",
    "id": "xuRd3UQBGTgr"
   },
   "outputs": [],
   "source": [
    "# List datasets\n",
    "import openml as oml\n",
    "openml_list = oml.datasets.list_datasets()\n",
    "\n",
    "# Show a nice table\n",
    "import pandas as pd\n",
    "datalist = pd.DataFrame.from_dict(openml_list, orient='index') \n",
    "datalist = datalist[['did','name','NumberOfInstances','NumberOfFeatures','NumberOfClasses'\n",
    "]]\n",
    "print(\"First 10 of %s datasets...\" % len(datalist))\n",
    "datalist.head(n=10)"
   ]
  },
  {
   "cell_type": "code",
   "execution_count": null,
   "metadata": {
    "colab": {},
    "colab_type": "code",
    "id": "nNx_FWP69hKU"
   },
   "outputs": [],
   "source": [
    "datalist[datalist.NumberOfInstances>10000\n",
    "        ].sort_values(['NumberOfInstances']).head(n=20)"
   ]
  },
  {
   "cell_type": "code",
   "execution_count": null,
   "metadata": {
    "colab": {},
    "colab_type": "code",
    "id": "L-UvsWWG9hKX"
   },
   "outputs": [],
   "source": [
    "datalist.query('name == \"eeg-eye-state\"')"
   ]
  },
  {
   "cell_type": "code",
   "execution_count": null,
   "metadata": {
    "colab": {},
    "colab_type": "code",
    "id": "gfxp_scb9hKb"
   },
   "outputs": [],
   "source": [
    "datalist.query('NumberOfClasses > 50')"
   ]
  },
  {
   "cell_type": "markdown",
   "metadata": {
    "colab_type": "text",
    "id": "xu1M33Ma9hKf",
    "slideshow": {
     "slide_type": "subslide"
    }
   },
   "source": [
    "## Download datasets\n",
    "Download the `eeg_eye_state` dataset. This is done based on the dataset ID ('did')."
   ]
  },
  {
   "cell_type": "code",
   "execution_count": null,
   "metadata": {
    "colab": {},
    "colab_type": "code",
    "id": "qMSPGZF29hKf"
   },
   "outputs": [],
   "source": [
    "dataset = oml.datasets.get_dataset(1471)\n",
    "\n",
    "# Print a summary\n",
    "print(\"This is dataset '%s', the target feature is '%s'\" % \n",
    "      (dataset.name, dataset.default_target_attribute))\n",
    "print(\"URL: %s\" % dataset.url)\n",
    "print(dataset.description[:500])"
   ]
  },
  {
   "cell_type": "markdown",
   "metadata": {
    "colab_type": "text",
    "id": "lcbLwDzX9hKj",
    "slideshow": {
     "slide_type": "subslide"
    }
   },
   "source": [
    "Get the actual data.  \n",
    "Returned as numpy array, with meta-info (e.g. target feature, feature names,...)"
   ]
  },
  {
   "cell_type": "code",
   "execution_count": null,
   "metadata": {
    "colab": {},
    "colab_type": "code",
    "id": "Lqg1h96n9hKk"
   },
   "outputs": [],
   "source": [
    "data, targets, categorical, attribute_names = dataset.get_data(\n",
    "    target=dataset.default_target_attribute\n",
    ")"
   ]
  },
  {
   "cell_type": "markdown",
   "metadata": {
    "colab_type": "text",
    "id": "2Es1EZWXGkvH"
   },
   "source": [
    "### Exercise\n",
    "- Explore the data visually"
   ]
  },
  {
   "cell_type": "code",
   "execution_count": null,
   "metadata": {
    "colab": {},
    "colab_type": "code",
    "id": "ULlyEm3EGkYN",
    "slideshow": {
     "slide_type": "skip"
    }
   },
   "outputs": [],
   "source": [
    "%matplotlib inline\n",
    "eegs = data.sample(n=1000)\n",
    "_ = pd.plotting.scatter_matrix(\n",
    "    data.iloc[:100,:4], \n",
    "    c=eegs[:100]['V14'], \n",
    "    figsize=(10, 10), \n",
    "    marker='o', \n",
    "    hist_kwds={'bins': 20}, \n",
    "    alpha=.8, \n",
    "    cmap='plasma'\n",
    ")"
   ]
  },
  {
   "cell_type": "code",
   "execution_count": null,
   "metadata": {
    "colab": {},
    "colab_type": "code",
    "id": "AHZlo6vaHIrY"
   },
   "outputs": [],
   "source": []
  },
  {
   "cell_type": "markdown",
   "metadata": {
    "colab_type": "text",
    "id": "gUr122_UHUaE"
   },
   "source": [
    "# Task\n",
    "\n",
    "The function `openml.evaluation.list_evaluations(...)` returns a dictionary of evaluation records. It has several filtering functions, to keep the resulting set small (keep in mind that OpenML has almost 10 million runs, and more than a billion evaluation records). The function is documented in the [API docs](https://openml.github.io/openml-python/master/generated/openml.evaluations.list_evaluations.html#openml.evaluations.list_evaluations). It returns a dict mapping from `run_id` to [OpenMLEvaluation](https://openml.github.io/openml-python/master/generated/openml.OpenMLEvaluation.html#openml.OpenMLEvaluation). Examples of filters are `task`, `flow` and `function`. Note that one of these is mandatory.\n",
    "\n",
    "* Obtain a subset of 100 predictive accuracy (`predictive_accuracy`) results on the letter dataset (task id = 6).\n",
    "* Obtain a subset of 100 predictive accuracy (`predictive_accuracy`) results per task in the OpenML 100 and plot these "
   ]
  },
  {
   "cell_type": "code",
   "execution_count": null,
   "metadata": {
    "colab": {},
    "colab_type": "code",
    "id": "jMciw6FWKE4p"
   },
   "outputs": [],
   "source": [
    "import seaborn as sns\n",
    "import pandas as pd\n",
    "import openml as oml\n",
    "\n",
    "suite = oml.study.get_suite('OpenML-CC18')\n",
    "scores = []\n",
    "for task_id in suite.tasks[:10]: # [SPEED] only first 10 tasks\n",
    "  results = oml.evaluations.list_evaluations(function='predictive_accuracy', tasks=[task_id], size=100)\n",
    "  # Download the tasks and plot the scores\n",
    "  for evaluation in results.values():\n",
    "    scores.append({\"flow\": evaluation.flow_name, \"score\": evaluation.value, \"task\": evaluation.data_name})\n",
    "\n",
    "sns.violinplot(x=\"task\", y=\"score\", data=pd.DataFrame(scores), scale=\"width\", palette=\"Set3\");"
   ]
  },
  {
   "cell_type": "markdown",
   "metadata": {
    "colab_type": "text",
    "id": "-l2NqTv4Q-xm"
   },
   "source": [
    "# Dataset Upload\n",
    "\n",
    "There are various ways to upload a dataset. The most convenient ways are documented in [this example](https://github.com/openml/openml-python/blob/master/examples/create_upload_tutorial.py). Most conveniently, this can be done using a [pandas dataframe](https://github.com/openml/openml-python/blob/a0ef724fec6ab31f6381d3ac2a84827ab535170d/examples/create_upload_tutorial.py#L206). Additionally, we need to create a [OpenMLDataset](https://openml.github.io/openml-python/master/generated/openml.OpenMLDataset.html#openml.OpenMLDataset) object, containing information about the dataset. Most notably, the arguments `name`, `default_target_attribute`, `attributes` and `data` need to be set.\n",
    "\n",
    "* Find your favorite dataset (on your laptop), load it as pandas dataframe and upload it to OpenML.\n",
    "* Common problem: Server returns error 131. This means that the description file was not complete. The [XSD](https://github.com/openml/OpenML/blob/master/openml_OS/views/pages/api_new/v1/xsd/openml.data.upload.xsd) for uploading the dataset hints what fields are mandatory.\n"
   ]
  },
  {
   "cell_type": "code",
   "execution_count": null,
   "metadata": {
    "colab": {},
    "colab_type": "code",
    "id": "lhh3TWuNQ9i5"
   },
   "outputs": [],
   "source": [
    "data = [\n",
    "    ['sunny', 85, 85, 'FALSE', 'no'],\n",
    "    ['sunny', 80, 90, 'TRUE', 'no'],\n",
    "    ['overcast', 83, 86, 'FALSE', 'yes'],\n",
    "    ['rainy', 70, 96, 'FALSE', 'yes'],\n",
    "    ['rainy', 68, 80, 'FALSE', 'yes'],\n",
    "    ['rainy', 65, 70, 'TRUE', 'no'],\n",
    "    ['overcast', 64, 65, 'TRUE', 'yes'],\n",
    "    ['sunny', 72, 95, 'FALSE', 'no'],\n",
    "    ['sunny', 69, 70, 'FALSE', 'yes'],\n",
    "    ['rainy', 75, 80, 'FALSE', 'yes'],\n",
    "    ['sunny', 75, 70, 'TRUE', 'yes'],\n",
    "    ['overcast', 72, 90, 'TRUE', 'yes'],\n",
    "    ['overcast', 81, 75, 'FALSE', 'yes'],\n",
    "    ['rainy', 71, 91, 'TRUE', 'no'],\n",
    "]\n",
    "\n",
    "attribute_names = [\n",
    "    ('outlook', ['sunny', 'overcast', 'rainy']),\n",
    "    ('temperature', 'REAL'),\n",
    "    ('humidity', 'REAL'),\n",
    "    ('windy', ['TRUE', 'FALSE']),\n",
    "    ('play', ['yes', 'no']),\n",
    "]\n",
    "\n",
    "description = (\n",
    "    'The weather problem is a tiny dataset that we will use repeatedly'\n",
    "    ' to illustrate machine learning methods. Entirely fictitious, it '\n",
    "    'supposedly concerns the conditions that are suitable for playing '\n",
    "    'some unspecified game. In general, instances in a dataset are '\n",
    "    'characterized by the values of features, or attributes, that measure '\n",
    "    'different aspects of the instance. In this case there are four '\n",
    "    'attributes: outlook, temperature, humidity, and windy. '\n",
    "    'The outcome is whether to play or not.'\n",
    ")\n",
    "\n",
    "oml.config.server = 'https://test.openml.org/api/v1/xml'\n",
    "oml.config.apikey = 'FILL_IN_APIKEY'\n",
    "\n",
    "df = pd.DataFrame(data, columns=[col_name for col_name, _ in attribute_names])\n",
    "# enforce the categorical column to have a categorical dtype\n",
    "df['outlook'] = df['outlook'].astype('category')\n",
    "df['windy'] = df['windy'].astype('bool')\n",
    "df['play'] = df['play'].astype('category')\n",
    "print(df.info())\n",
    "\n",
    "############################################################################\n",
    "# We enforce the column 'outlook', 'windy', and 'play' to be a categorical\n",
    "# dtype while the column 'rnd_str' is kept as a string column. Then, we can\n",
    "# call :func:`create_dataset` by passing the dataframe and fixing the parameter\n",
    "# ``attributes`` to ``'auto'``.\n",
    "\n",
    "weather_dataset = oml.datasets.create_dataset(\n",
    "    name=\"Weather\",\n",
    "    description=description,\n",
    "    default_target_attribute='play',\n",
    "    attributes='auto',\n",
    "    data=df, \n",
    "    creator=None,\n",
    "    contributor=None, \n",
    "    collection_date=None, \n",
    "    language=None, \n",
    "    licence=None, \n",
    "    ignore_attribute=None, \n",
    "    citation=None,\n",
    ")\n",
    "\n",
    "\n",
    "uploaded_dataset = weather_dataset.publish()\n",
    "print(uploaded_dataset)\n",
    "print('URL for dataset: %s/data/%d' % (oml.config.server, uploaded_dataset.id))\n"
   ]
  },
  {
   "cell_type": "markdown",
   "metadata": {},
   "source": [
    "# Create a task\n",
    "\n",
    "Create a task on the previously uploaded dataset. Note: each task can only be created once. Once you are succesfull at creating a task, you would need to find its ID using the search functionality, or the frontend. For functions related to creating and finding tasks, see `openml.tasks.create_task` and `openml.tasks.list_tasks`\n"
   ]
  },
  {
   "cell_type": "code",
   "execution_count": null,
   "metadata": {},
   "outputs": [],
   "source": [
    "task_id = openml.tasks.create_task(\n",
    "    \n",
    ")"
   ]
  }
 ],
 "metadata": {
  "colab": {
   "collapsed_sections": [],
   "name": "OpenML Tutorial Dataset.ipynb",
   "provenance": [],
   "version": "0.3.2"
  },
  "kernelspec": {
   "display_name": "Python 3 (ipykernel)",
   "language": "python",
   "name": "python3"
  },
  "language_info": {
   "codemirror_mode": {
    "name": "ipython",
    "version": 3
   },
   "file_extension": ".py",
   "mimetype": "text/x-python",
   "name": "python",
   "nbconvert_exporter": "python",
   "pygments_lexer": "ipython3",
   "version": "3.10.10"
  }
 },
 "nbformat": 4,
 "nbformat_minor": 4
}
