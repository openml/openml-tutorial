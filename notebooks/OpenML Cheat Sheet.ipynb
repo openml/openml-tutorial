{
 "cells": [
  {
   "cell_type": "markdown",
   "metadata": {
    "cell_style": "split",
    "nbpresent": {
     "id": "365ab75b-fb74-4fc0-9efb-ea51b2c208e6"
    },
    "slideshow": {
     "slide_type": "slide"
    }
   },
   "source": [
    "# OpenML Cheat Sheet (Python)"
   ]
  },
  {
   "cell_type": "code",
   "execution_count": 124,
   "metadata": {
    "cell_style": "split",
    "hide_input": false
   },
   "outputs": [],
   "source": [
    "# General imports\n",
    "from openml import datasets, tasks, runs, flows, config, evaluations, study\n",
    "import os, pandas, sklearn, arff, pprint, numpy, seaborn"
   ]
  },
  {
   "cell_type": "markdown",
   "metadata": {
    "cell_style": "split",
    "hide_input": true,
    "nbpresent": {
     "id": "22990c96-6359-4864-bfc4-eb4c3c5a1ec1"
    },
    "slideshow": {
     "slide_type": "slide"
    }
   },
   "source": [
    "## config\n",
    "\n",
    "Find your API key (required for uploads):\n",
    "* `www.openml.org` > Your profile > API Authentication\n",
    "\n",
    "Main OpenML servers:\n",
    "* Public: `https://www.openml.org/api/v1` (default)\n",
    "* Test: `https://test.openml.org/api/v1` "
   ]
  },
  {
   "cell_type": "markdown",
   "metadata": {
    "cell_style": "split"
   },
   "source": [
    "Set server, API key and cache directory (default: `~/.openml/cache`)"
   ]
  },
  {
   "cell_type": "raw",
   "metadata": {
    "cell_style": "split"
   },
   "source": [
    "config.apikey = 'qxlfpbe...ebairtd'\n",
    "config.server = 'https://...'\n",
    "config.set_cache_directory(os.path.expanduser('~/mycache'))"
   ]
  },
  {
   "cell_type": "markdown",
   "metadata": {
    "cell_style": "split"
   },
   "source": [
    "Or, create a config file called `~/.openml/config`\n",
    "and add these lines:"
   ]
  },
  {
   "cell_type": "code",
   "execution_count": null,
   "metadata": {
    "cell_style": "split",
    "hide_input": false
   },
   "outputs": [],
   "source": [
    "server=https://www.openml.org/api/v1\n",
    "apikey=qxlfpbeaudtprb23985hcqlfoebairtd\n",
    "cachedir=/homedir/.openml/cache"
   ]
  },
  {
   "cell_type": "markdown",
   "metadata": {
    "cell_style": "split",
    "nbpresent": {
     "id": "e4f0afda-8f78-4162-b196-b12399a65a5a"
    },
    "slideshow": {
     "slide_type": "slide"
    }
   },
   "source": [
    "## datasets  \n",
    "**`list_datasets(offset=None, size=None, tag=None)`**\n",
    "* `offset` and `size` for paging results\n",
    "* `tag` to filter datasets (e.g. 'uci')\n",
    "* `status`: active, in_preparation, deactivated\n",
    "* `data_name`, `data_version`, `number_instances`,..."
   ]
  },
  {
   "cell_type": "code",
   "execution_count": 39,
   "metadata": {
    "cell_style": "split",
    "nbpresent": {
     "id": "1f22460f-b6da-4e90-9437-336b84527224"
    },
    "scrolled": false
   },
   "outputs": [
    {
     "data": {
      "text/html": [
       "<div>\n",
       "<style scoped>\n",
       "    .dataframe tbody tr th:only-of-type {\n",
       "        vertical-align: middle;\n",
       "    }\n",
       "\n",
       "    .dataframe tbody tr th {\n",
       "        vertical-align: top;\n",
       "    }\n",
       "\n",
       "    .dataframe thead th {\n",
       "        text-align: right;\n",
       "    }\n",
       "</style>\n",
       "<table border=\"1\" class=\"dataframe\">\n",
       "  <thead>\n",
       "    <tr style=\"text-align: right;\">\n",
       "      <th></th>\n",
       "      <th>name</th>\n",
       "      <th>NumberOfInstances</th>\n",
       "      <th>NumberOfFeatures</th>\n",
       "    </tr>\n",
       "  </thead>\n",
       "  <tbody>\n",
       "    <tr>\n",
       "      <th>2</th>\n",
       "      <td>anneal</td>\n",
       "      <td>898</td>\n",
       "      <td>39</td>\n",
       "    </tr>\n",
       "    <tr>\n",
       "      <th>3</th>\n",
       "      <td>kr-vs-kp</td>\n",
       "      <td>3196</td>\n",
       "      <td>37</td>\n",
       "    </tr>\n",
       "    <tr>\n",
       "      <th>4</th>\n",
       "      <td>labor</td>\n",
       "      <td>57</td>\n",
       "      <td>17</td>\n",
       "    </tr>\n",
       "  </tbody>\n",
       "</table>\n",
       "</div>"
      ],
      "text/plain": [
       "       name  NumberOfInstances  NumberOfFeatures\n",
       "2    anneal                898                39\n",
       "3  kr-vs-kp               3196                37\n",
       "4     labor                 57                17"
      ]
     },
     "execution_count": 39,
     "metadata": {},
     "output_type": "execute_result"
    }
   ],
   "source": [
    "dlist = datasets.list_datasets(size=100)\n",
    "pandas.DataFrame.from_dict(dlist, orient='index')[\n",
    "['name','NumberOfInstances', 'NumberOfFeatures']][:3]"
   ]
  },
  {
   "cell_type": "markdown",
   "metadata": {
    "cell_style": "split"
   },
   "source": [
    "**`get_dataset(dataset_id)`**\n",
    "* returns **OpenMLDataset** object\n",
    "* automatically downloads and caches the data itself"
   ]
  },
  {
   "cell_type": "code",
   "execution_count": 4,
   "metadata": {
    "cell_style": "split",
    "nbpresent": {
     "id": "d377efff-2484-4ac3-8706-6434644949fd"
    }
   },
   "outputs": [
    {
     "name": "stdout",
     "output_type": "stream",
     "text": [
      "eeg-eye-state\n",
      "Target: Class\n",
      "All data is from one continuous EEG measurement \n"
     ]
    }
   ],
   "source": [
    "odata = datasets.get_dataset(1471)\n",
    "print(odata.name, \"Target: \"+ odata.default_target_attribute, \n",
    "      odata.description[260:308], sep='\\n')"
   ]
  },
  {
   "cell_type": "markdown",
   "metadata": {
    "cell_style": "split"
   },
   "source": [
    "**`OpenMLDataset`**  \n",
    "\n",
    "**`.features`**: list of features and their properties  \n",
    "**`.qualities`**: list of all dataset properties  \n",
    "**`.get_data`**(target,return_attribute_names=False,return_categorical_indicator=False):  \n",
    "  returns data as numpy arrays, attribute names, and which are categorical  \n",
    "**`.retrieve_class_labels(target_name='class')`**: return all class labels for the given target attribute\n",
    "\n"
   ]
  },
  {
   "cell_type": "code",
   "execution_count": 100,
   "metadata": {
    "cell_style": "split"
   },
   "outputs": [
    {
     "data": {
      "text/html": [
       "<div>\n",
       "<style scoped>\n",
       "    .dataframe tbody tr th:only-of-type {\n",
       "        vertical-align: middle;\n",
       "    }\n",
       "\n",
       "    .dataframe tbody tr th {\n",
       "        vertical-align: top;\n",
       "    }\n",
       "\n",
       "    .dataframe thead th {\n",
       "        text-align: right;\n",
       "    }\n",
       "</style>\n",
       "<table border=\"1\" class=\"dataframe\">\n",
       "  <thead>\n",
       "    <tr style=\"text-align: right;\">\n",
       "      <th></th>\n",
       "      <th>V1</th>\n",
       "      <th>V2</th>\n",
       "      <th>V3</th>\n",
       "      <th>V4</th>\n",
       "      <th>V5</th>\n",
       "      <th>V6</th>\n",
       "      <th>V7</th>\n",
       "      <th>V8</th>\n",
       "      <th>V9</th>\n",
       "      <th>V10</th>\n",
       "      <th>V11</th>\n",
       "      <th>V12</th>\n",
       "      <th>V13</th>\n",
       "      <th>V14</th>\n",
       "    </tr>\n",
       "  </thead>\n",
       "  <tbody>\n",
       "    <tr>\n",
       "      <th>0</th>\n",
       "      <td>4329.229980</td>\n",
       "      <td>4009.229980</td>\n",
       "      <td>4289.229980</td>\n",
       "      <td>4148.209961</td>\n",
       "      <td>4350.259766</td>\n",
       "      <td>4586.149902</td>\n",
       "      <td>4096.919922</td>\n",
       "      <td>4641.029785</td>\n",
       "      <td>4222.049805</td>\n",
       "      <td>4238.459961</td>\n",
       "      <td>4211.279785</td>\n",
       "      <td>4280.509766</td>\n",
       "      <td>4635.899902</td>\n",
       "      <td>4393.850098</td>\n",
       "    </tr>\n",
       "    <tr>\n",
       "      <th>1</th>\n",
       "      <td>4324.620117</td>\n",
       "      <td>4004.620117</td>\n",
       "      <td>4293.850098</td>\n",
       "      <td>4148.720215</td>\n",
       "      <td>4342.049805</td>\n",
       "      <td>4586.669922</td>\n",
       "      <td>4097.439941</td>\n",
       "      <td>4638.970215</td>\n",
       "      <td>4210.770020</td>\n",
       "      <td>4226.669922</td>\n",
       "      <td>4207.689941</td>\n",
       "      <td>4279.490234</td>\n",
       "      <td>4632.819824</td>\n",
       "      <td>4384.100098</td>\n",
       "    </tr>\n",
       "  </tbody>\n",
       "</table>\n",
       "</div>"
      ],
      "text/plain": [
       "            V1           V2           V3           V4           V5  \\\n",
       "0  4329.229980  4009.229980  4289.229980  4148.209961  4350.259766   \n",
       "1  4324.620117  4004.620117  4293.850098  4148.720215  4342.049805   \n",
       "\n",
       "            V6           V7           V8           V9          V10  \\\n",
       "0  4586.149902  4096.919922  4641.029785  4222.049805  4238.459961   \n",
       "1  4586.669922  4097.439941  4638.970215  4210.770020  4226.669922   \n",
       "\n",
       "           V11          V12          V13          V14  \n",
       "0  4211.279785  4280.509766  4635.899902  4393.850098  \n",
       "1  4207.689941  4279.490234  4632.819824  4384.100098  "
      ]
     },
     "execution_count": 100,
     "metadata": {},
     "output_type": "execute_result"
    }
   ],
   "source": [
    "X, y, attribute_names = odata.get_data(\n",
    "    target=odata.default_target_attribute, \n",
    "    return_attribute_names=True)\n",
    "pandas.DataFrame(X, columns=attribute_names)[:2]"
   ]
  },
  {
   "cell_type": "markdown",
   "metadata": {
    "cell_style": "split",
    "nbpresent": {
     "id": "eeb5fce8-4073-40c3-ab2b-a211bc77b1d4"
    },
    "slideshow": {
     "slide_type": "skip"
    }
   },
   "source": [
    "**Upload new datasets**\n",
    "* Create a new OpenML dataset with all relevant information\n",
    "* `datasets.functions.create_dataset` for uploading pandas dataframes or numpy arrays\n",
    "* Call **`.publish()`** to upload"
   ]
  },
  {
   "cell_type": "code",
   "execution_count": 46,
   "metadata": {
    "cell_style": "split"
   },
   "outputs": [
    {
     "name": "stdout",
     "output_type": "stream",
     "text": [
      "New dataset ID: 6677\n"
     ]
    }
   ],
   "source": [
    "md = datasets.OpenMLDataset(data_file='dataset.arff', name='t',\n",
    "    description='t', version='1', format='ARFF', licence='CC0',\n",
    "    visibility='public', default_target_attribute='class')\n",
    "data_id = md.publish()\n",
    "\n",
    "print(\"New dataset ID: \" + str(data_id)) "
   ]
  },
  {
   "cell_type": "markdown",
   "metadata": {
    "cell_style": "split",
    "nbpresent": {
     "id": "ba1405dc-32b8-4518-9904-c54b0cae6757"
    },
    "slideshow": {
     "slide_type": "slide"
    }
   },
   "source": [
    "## tasks  \n",
    "**`list_tasks(task_type_id=None, offset=None, size=None, ...)`**\n",
    "* `offset` and `size` for paging results, `tag` to filter tags\n",
    "* `task_type_id`: 1=Classification, 2=Regression,...\n",
    "* Dataset properties: `data_tag`, `status`, `data_id`, `data_name`, `number_instances`, `number_features`, `number_classes`, ..."
   ]
  },
  {
   "cell_type": "code",
   "execution_count": 103,
   "metadata": {
    "cell_style": "split"
   },
   "outputs": [
    {
     "data": {
      "text/html": [
       "<div>\n",
       "<style scoped>\n",
       "    .dataframe tbody tr th:only-of-type {\n",
       "        vertical-align: middle;\n",
       "    }\n",
       "\n",
       "    .dataframe tbody tr th {\n",
       "        vertical-align: top;\n",
       "    }\n",
       "\n",
       "    .dataframe thead th {\n",
       "        text-align: right;\n",
       "    }\n",
       "</style>\n",
       "<table border=\"1\" class=\"dataframe\">\n",
       "  <thead>\n",
       "    <tr style=\"text-align: right;\">\n",
       "      <th></th>\n",
       "      <th>name</th>\n",
       "      <th>estimation_procedure</th>\n",
       "    </tr>\n",
       "  </thead>\n",
       "  <tbody>\n",
       "    <tr>\n",
       "      <th>2</th>\n",
       "      <td>anneal</td>\n",
       "      <td>10-fold Crossvalidation</td>\n",
       "    </tr>\n",
       "    <tr>\n",
       "      <th>3</th>\n",
       "      <td>kr-vs-kp</td>\n",
       "      <td>10-fold Crossvalidation</td>\n",
       "    </tr>\n",
       "    <tr>\n",
       "      <th>4</th>\n",
       "      <td>labor</td>\n",
       "      <td>10-fold Crossvalidation</td>\n",
       "    </tr>\n",
       "  </tbody>\n",
       "</table>\n",
       "</div>"
      ],
      "text/plain": [
       "       name     estimation_procedure\n",
       "2    anneal  10-fold Crossvalidation\n",
       "3  kr-vs-kp  10-fold Crossvalidation\n",
       "4     labor  10-fold Crossvalidation"
      ]
     },
     "execution_count": 103,
     "metadata": {},
     "output_type": "execute_result"
    }
   ],
   "source": [
    "tlist = tasks.list_tasks(task_type_id=1, size=100)\n",
    "pandas.DataFrame.from_dict(tlist, orient='index')[\n",
    "['name','estimation_procedure']][:3]"
   ]
  },
  {
   "cell_type": "markdown",
   "metadata": {
    "cell_style": "split"
   },
   "source": [
    "**`get_task(task_id)`**\n",
    "* returns **OpenMLTask** object\n",
    "    *  includes estimation procedure, target name, cost matrix,...\n",
    "* automatically caches the task description"
   ]
  },
  {
   "cell_type": "code",
   "execution_count": 8,
   "metadata": {
    "cell_style": "split",
    "hide_input": false,
    "nbpresent": {
     "id": "8d954b88-96dc-48d5-ad06-524d040a0324"
    }
   },
   "outputs": [
    {
     "name": "stdout",
     "output_type": "stream",
     "text": [
      "{'data_splits_url': 'https://www.openml.org/api_splits/get/14951/Task_14951_splits.arff',\n",
      " 'parameters': {'number_folds': '10',\n",
      "                'number_repeats': '1',\n",
      "                'percentage': '',\n",
      "                'stratified_sampling': 'true'},\n",
      " 'type': 'crossvalidation'}\n"
     ]
    }
   ],
   "source": [
    "task = tasks.get_task(14951)\n",
    "pprint.pprint(task.estimation_procedure)"
   ]
  },
  {
   "cell_type": "markdown",
   "metadata": {
    "cell_style": "split"
   },
   "source": [
    "**`OpenMLTask`**  \n",
    "**`.get_dataset()`**: downloads associated dataset   \n",
    "**`.download_split()`**: downloads train/test splits"
   ]
  },
  {
   "cell_type": "markdown",
   "metadata": {
    "cell_style": "split"
   },
   "source": [
    "**Create new tasks**  \n",
    "...  \n",
    "`Under development`"
   ]
  },
  {
   "cell_type": "markdown",
   "metadata": {
    "cell_style": "split"
   },
   "source": [
    "## flows  \n",
    "**`list_flows(offset=None, size=None, tag=None, uploader=None)`**\n",
    "* returns ID -> flow dict mapping\n",
    "* `offset` and `size` for paging results, `tag` to filter tags\n",
    "* `uploader`: list of uploader IDs to filter on, e.g. [1,2,3]"
   ]
  },
  {
   "cell_type": "code",
   "execution_count": 102,
   "metadata": {
    "cell_style": "split"
   },
   "outputs": [
    {
     "data": {
      "text/html": [
       "<div>\n",
       "<style scoped>\n",
       "    .dataframe tbody tr th:only-of-type {\n",
       "        vertical-align: middle;\n",
       "    }\n",
       "\n",
       "    .dataframe tbody tr th {\n",
       "        vertical-align: top;\n",
       "    }\n",
       "\n",
       "    .dataframe thead th {\n",
       "        text-align: right;\n",
       "    }\n",
       "</style>\n",
       "<table border=\"1\" class=\"dataframe\">\n",
       "  <thead>\n",
       "    <tr style=\"text-align: right;\">\n",
       "      <th></th>\n",
       "      <th>name</th>\n",
       "      <th>version</th>\n",
       "      <th>external_version</th>\n",
       "    </tr>\n",
       "  </thead>\n",
       "  <tbody>\n",
       "    <tr>\n",
       "      <th>101</th>\n",
       "      <td>moa.WEKAClassifier_REPTree</td>\n",
       "      <td>1</td>\n",
       "      <td>Moa_2014.03_1.0</td>\n",
       "    </tr>\n",
       "    <tr>\n",
       "      <th>102</th>\n",
       "      <td>weka.REPTree</td>\n",
       "      <td>2</td>\n",
       "      <td>Weka_3.7.5_9378</td>\n",
       "    </tr>\n",
       "  </tbody>\n",
       "</table>\n",
       "</div>"
      ],
      "text/plain": [
       "                           name version external_version\n",
       "101  moa.WEKAClassifier_REPTree       1  Moa_2014.03_1.0\n",
       "102                weka.REPTree       2  Weka_3.7.5_9378"
      ]
     },
     "execution_count": 102,
     "metadata": {},
     "output_type": "execute_result"
    }
   ],
   "source": [
    "flist = flows.list_flows(size=200)\n",
    "pandas.DataFrame.from_dict(flist, orient='index')[\n",
    "    ['name','version','external_version']][100:102]"
   ]
  },
  {
   "cell_type": "markdown",
   "metadata": {
    "cell_style": "split"
   },
   "source": [
    "**`sklearn_to_flow(sklearn_estimator)`**\n",
    "\n",
    "* converts a scikit-learn estimator or pipeline to an OpenML Flow\n",
    "\n",
    "**`publish()`**\n",
    "\n",
    "* Uploads the flow to the server. Returns ID"
   ]
  },
  {
   "cell_type": "code",
   "execution_count": 10,
   "metadata": {
    "cell_style": "split",
    "hide_input": false
   },
   "outputs": [],
   "source": [
    "lr = sklearn.linear_model.LinearRegression().fit(X, y)\n",
    "flow = flows.sklearn_to_flow(lr)\n",
    "\n",
    "pipe = sklearn.pipeline.Pipeline(steps=[\n",
    "    ('Imputer', sklearn.preprocessing.Normalizer()),\n",
    "    ('Classifier', sklearn.linear_model.LinearRegression())])\n",
    "flow2 = flows.sklearn_to_flow(pipe)\n",
    "# flows.publish(flow)"
   ]
  },
  {
   "cell_type": "markdown",
   "metadata": {
    "cell_style": "split"
   },
   "source": [
    "## runs  \n",
    "**`list_runs(offset=None, size=None, tag=None, id=None, task=None, flow=None, uploader=None, display_errors=False)`**\n",
    "* `offset` and `size` for paging results, `tag` to filter tags\n",
    "* `id`, `task`, `flow`, `uploader`: list of IDs to filter, e.g. [1,2,3]\n",
    "* `display_errors`: whether to return failed runs"
   ]
  },
  {
   "cell_type": "code",
   "execution_count": 104,
   "metadata": {
    "cell_style": "split"
   },
   "outputs": [
    {
     "data": {
      "text/html": [
       "<div>\n",
       "<style scoped>\n",
       "    .dataframe tbody tr th:only-of-type {\n",
       "        vertical-align: middle;\n",
       "    }\n",
       "\n",
       "    .dataframe tbody tr th {\n",
       "        vertical-align: top;\n",
       "    }\n",
       "\n",
       "    .dataframe thead th {\n",
       "        text-align: right;\n",
       "    }\n",
       "</style>\n",
       "<table border=\"1\" class=\"dataframe\">\n",
       "  <thead>\n",
       "    <tr style=\"text-align: right;\">\n",
       "      <th></th>\n",
       "      <th>run_id</th>\n",
       "      <th>task_id</th>\n",
       "      <th>setup_id</th>\n",
       "      <th>flow_id</th>\n",
       "      <th>uploader</th>\n",
       "    </tr>\n",
       "  </thead>\n",
       "  <tbody>\n",
       "    <tr>\n",
       "      <th>544514</th>\n",
       "      <td>544514</td>\n",
       "      <td>14951</td>\n",
       "      <td>5540</td>\n",
       "      <td>3404</td>\n",
       "      <td>2</td>\n",
       "    </tr>\n",
       "    <tr>\n",
       "      <th>595116</th>\n",
       "      <td>595116</td>\n",
       "      <td>14951</td>\n",
       "      <td>6436</td>\n",
       "      <td>4074</td>\n",
       "      <td>2</td>\n",
       "    </tr>\n",
       "    <tr>\n",
       "      <th>595117</th>\n",
       "      <td>595117</td>\n",
       "      <td>14951</td>\n",
       "      <td>6436</td>\n",
       "      <td>4074</td>\n",
       "      <td>2</td>\n",
       "    </tr>\n",
       "    <tr>\n",
       "      <th>595118</th>\n",
       "      <td>595118</td>\n",
       "      <td>14951</td>\n",
       "      <td>6436</td>\n",
       "      <td>4074</td>\n",
       "      <td>2</td>\n",
       "    </tr>\n",
       "  </tbody>\n",
       "</table>\n",
       "</div>"
      ],
      "text/plain": [
       "        run_id  task_id  setup_id  flow_id  uploader\n",
       "544514  544514    14951      5540     3404         2\n",
       "595116  595116    14951      6436     4074         2\n",
       "595117  595117    14951      6436     4074         2\n",
       "595118  595118    14951      6436     4074         2"
      ]
     },
     "execution_count": 104,
     "metadata": {},
     "output_type": "execute_result"
    }
   ],
   "source": [
    "rl = runs.list_runs(task=[14951],size=100)\n",
    "pandas.DataFrame.from_dict(rl, orient='index')[1:5]"
   ]
  },
  {
   "cell_type": "markdown",
   "metadata": {
    "cell_style": "split"
   },
   "source": [
    "**`get_run(run_id)`**\n",
    "* returns **OpenMLRun** object\n",
    "    *  includes the exact task, exact flow, and all evaluations\n",
    "* automatically caches the run description\n",
    "\n",
    "**OpenMLRun**  \n",
    "**.uploader_name**: full name of the run author  \n",
    "**.flow_name**: full name of the flow  \n",
    "**.parameter_settings**: hyperparameters of the flow  \n",
    "**.evaluations**: key-value pairs of metric and score  \n",
    "**.fold_evaluations**: dict of per-fold evaluations  "
   ]
  },
  {
   "cell_type": "code",
   "execution_count": 32,
   "metadata": {
    "cell_style": "split"
   },
   "outputs": [
    {
     "data": {
      "text/html": [
       "<div>\n",
       "<style scoped>\n",
       "    .dataframe tbody tr th:only-of-type {\n",
       "        vertical-align: middle;\n",
       "    }\n",
       "\n",
       "    .dataframe tbody tr th {\n",
       "        vertical-align: top;\n",
       "    }\n",
       "\n",
       "    .dataframe thead th {\n",
       "        text-align: right;\n",
       "    }\n",
       "</style>\n",
       "<table border=\"1\" class=\"dataframe\">\n",
       "  <thead>\n",
       "    <tr style=\"text-align: right;\">\n",
       "      <th></th>\n",
       "      <th>flow</th>\n",
       "      <th>score</th>\n",
       "    </tr>\n",
       "  </thead>\n",
       "  <tbody>\n",
       "    <tr>\n",
       "      <th>17</th>\n",
       "      <td>sklearn.tree.tree.DecisionTreeClassifier(2)</td>\n",
       "      <td>0.842479</td>\n",
       "    </tr>\n",
       "    <tr>\n",
       "      <th>18</th>\n",
       "      <td>sklearn.ensemble.forest.RandomForestClassifier...</td>\n",
       "      <td>0.964900</td>\n",
       "    </tr>\n",
       "    <tr>\n",
       "      <th>19</th>\n",
       "      <td>mlr.classif.rpart(11)</td>\n",
       "      <td>0.693537</td>\n",
       "    </tr>\n",
       "  </tbody>\n",
       "</table>\n",
       "</div>"
      ],
      "text/plain": [
       "                                                 flow     score\n",
       "17        sklearn.tree.tree.DecisionTreeClassifier(2)  0.842479\n",
       "18  sklearn.ensemble.forest.RandomForestClassifier...  0.964900\n",
       "19                              mlr.classif.rpart(11)  0.693537"
      ]
     },
     "execution_count": 32,
     "metadata": {},
     "output_type": "execute_result"
    }
   ],
   "source": [
    "rlist = runs.list_runs(task=[14951],size=50)\n",
    "scores = []\n",
    "for id, _ in rlist.items():\n",
    "    run = runs.get_run(id)\n",
    "    scores.append({\"flow\":run.flow_name, \n",
    "                   \"score\":run.evaluations['area_under_roc_curve']})\n",
    "pandas.DataFrame.from_dict(scores)[17:20]"
   ]
  },
  {
   "cell_type": "markdown",
   "metadata": {
    "cell_style": "split"
   },
   "source": [
    "**`run_flow_on_task(flow, task)`**  \n",
    "**`run_model_on_task(model, task)`**\n",
    "\n",
    "* Runs a flow or model (e.g. sklearn model) on the task\n",
    "* Returns a **OpenMLRun** with all information\n",
    "* Trains and tests the flow of all train/test splits defined by the task\n",
    "\n",
    "**`publish()`**\n",
    "* Publishes the run on OpenML\n"
   ]
  },
  {
   "cell_type": "code",
   "execution_count": 128,
   "metadata": {
    "cell_style": "split"
   },
   "outputs": [
    {
     "name": "stdout",
     "output_type": "stream",
     "text": [
      "[run id: 10154999, task id: 14951, flow id: 9652, flow name: sklearn.linear_model.logis...]\n",
      "Accuracy: 0.64%\n"
     ]
    }
   ],
   "source": [
    "task = tasks.get_task(14951)\n",
    "clf = sklearn.linear_model.LogisticRegression()\n",
    "run = runs.run_model_on_task(clf, task)\n",
    "score = run.get_metric_fn(sklearn.metrics.accuracy_score)\n",
    "myrun = run.publish()\n",
    "\n",
    "print(myrun)\n",
    "print(\"Accuracy: {:.2f}%\".format(score.mean()))"
   ]
  },
  {
   "cell_type": "markdown",
   "metadata": {
    "cell_style": "split"
   },
   "source": [
    "## evaluations  \n",
    "**`list_evaluations(function=None, offset=None, size=None, tag=None, id=None, task=None, flow=None, uploader=None, display_errors=False)`**\n",
    "* `function`: evaluation measure, e.g. `area_under_roc_curve'\n",
    "* `offset` and `size` for paging results, `tag` to filter tags\n",
    "* `id`, `task`, `flow`, `uploader`: list of IDs to filter, e.g. [1,2,3]\n",
    "* `per_fold`: if True, returns per-fold evaluations \n",
    "* `setup`: list of hyperparameter setup ID's"
   ]
  },
  {
   "cell_type": "code",
   "execution_count": 138,
   "metadata": {
    "cell_style": "split"
   },
   "outputs": [
    {
     "data": {
      "image/png": "[encoded data removed]",
      "text/plain": [
       "<Figure size 432x288 with 1 Axes>"
      ]
     },
     "metadata": {},
     "output_type": "display_data"
    }
   ],
   "source": [
    "evals = evaluations.list_evaluations(task=[167133], \n",
    "    function='area_under_roc_curve', size=100)\n",
    "scores = [{\"flow\":e.flow_name[0:70], \"score\":e.value} \n",
    "          for id, e in evals.items()]\n",
    "seaborn.violinplot(x=\"score\", y=\"flow\", cut=0, scale=\"width\", \n",
    "                   data=pandas.DataFrame(scores));"
   ]
  },
  {
   "cell_type": "markdown",
   "metadata": {
    "cell_style": "split"
   },
   "source": [
    "## Benchmark suites\n",
    "* Curated collections of tasks for benchmarking\n",
    "* Run any model or pipeline on all tasks\n",
    "* Frictionless evaluation and sharing"
   ]
  },
  {
   "cell_type": "code",
   "execution_count": 131,
   "metadata": {
    "cell_style": "split"
   },
   "outputs": [
    {
     "name": "stdout",
     "output_type": "stream",
     "text": [
      "Data set: kr-vs-kp; Accuracy: 0.96\n",
      "Data set: letter; Accuracy: 0.72\n"
     ]
    }
   ],
   "source": [
    "benchmark_suite = study.get_study('OpenML-CC18','tasks')\n",
    "clf = sklearn.linear_model.LogisticRegression()\n",
    "for task_id in benchmark_suite.tasks[0:2]: # take small subset\n",
    "    run = runs.run_model_on_task(clf, tasks.get_task(task_id))\n",
    "    score = run.get_metric_fn(sklearn.metrics.accuracy_score)\n",
    "    print('Data set: %s; Accuracy: %0.2f' % (task.get_dataset().name,score.mean()))\n",
    "    # run.publish()"
   ]
  },
  {
   "cell_type": "code",
   "execution_count": 55,
   "metadata": {
    "hide_input": false
   },
   "outputs": [
    {
     "data": {
      "text/html": [
       "<style>.prompt {display:none;}\n",
       "        .output_subarea pre{width:130%}\n",
       "        </style>"
      ],
      "text/plain": [
       "<IPython.core.display.HTML object>"
      ]
     },
     "execution_count": 55,
     "metadata": {},
     "output_type": "execute_result"
    }
   ],
   "source": [
    "from IPython.display import set_matplotlib_formats, display, HTML\n",
    "HTML('''<style>.prompt {display:none;}\n",
    "        .output_subarea pre{width:130%}\n",
    "        </style>''')"
   ]
  },
  {
   "cell_type": "code",
   "execution_count": 96,
   "metadata": {},
   "outputs": [],
   "source": [
    "config.server = 'https://www.openml.org/api/v1'"
   ]
  }
 ],
 "metadata": {
  "anaconda-cloud": {},
  "colabVersion": "0.1",
  "kernelspec": {
   "display_name": "Python 3",
   "language": "python",
   "name": "python3"
  },
  "language_info": {
   "codemirror_mode": {
    "name": "ipython",
    "version": 3
   },
   "file_extension": ".py",
   "mimetype": "text/x-python",
   "name": "python",
   "nbconvert_exporter": "python",
   "pygments_lexer": "ipython3",
   "version": "3.6.4"
  }
 },
 "nbformat": 4,
 "nbformat_minor": 1
}
