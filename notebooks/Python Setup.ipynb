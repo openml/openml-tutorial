{
 "cells": [
  {
   "cell_type": "markdown",
   "metadata": {
    "deletable": true,
    "editable": true
   },
   "source": [
    "## Python environment setup"
   ]
  },
  {
   "cell_type": "markdown",
   "metadata": {
    "deletable": true,
    "editable": true
   },
   "source": [
    "Please run `Kernel > Restart & Run All` (in the menu bar above) to update existing libraries and import new ones.\n",
    "\n",
    "Note: This assumes a standard conda environment. You may need to install more dependencies otherwise.\n",
    "\n",
    "Note: If anything goes wrong, remove `%%capture` to see the full installation output and fix issues."
   ]
  },
  {
   "cell_type": "markdown",
   "metadata": {
    "deletable": true,
    "editable": true
   },
   "source": [
    "#### Updating\n",
    "Update anaconda and pip to make sure we can install recent versions of the python packages.  \n",
    "Should take about 2 minutes."
   ]
  },
  {
   "cell_type": "code",
   "execution_count": 3,
   "metadata": {
    "collapsed": false,
    "deletable": true,
    "editable": true
   },
   "outputs": [],
   "source": [
    "%%capture\n",
    "!conda update --all --yes\n",
    "!pip install --upgrade pip\n",
    "!pip install numpy pandas matplotlib --upgrade"
   ]
  },
  {
   "cell_type": "markdown",
   "metadata": {
    "deletable": true,
    "editable": true
   },
   "source": [
    "#### Install OpenML and AutoML\n",
    "Install the main libraries. Should take about 3 minutes.\n",
    "Note that auto-sklearn depends on swig, which means that it won't run on Windows."
   ]
  },
  {
   "cell_type": "code",
   "execution_count": 2,
   "metadata": {
    "collapsed": false,
    "deletable": true,
    "editable": true
   },
   "outputs": [],
   "source": [
    "%%capture\n",
    "# OpenML, TPOT, H2O\n",
    "!pip install openml tpot h2o\n",
    "\n",
    "# Auto-sklearn\n",
    "!conda install swig --yes\n",
    "!pip install Cython\n",
    "!pip install auto-sklearn"
   ]
  },
  {
   "cell_type": "markdown",
   "metadata": {
    "deletable": true,
    "editable": true
   },
   "source": [
    "### Check Installed libraries. \n",
    "These should all work and the dependencies should be covered.  \n",
    "If you get an error, try  `Kernel > Restart` and running this cell once more."
   ]
  },
  {
   "cell_type": "code",
   "execution_count": 1,
   "metadata": {
    "collapsed": false,
    "deletable": true,
    "editable": true
   },
   "outputs": [
    {
     "name": "stdout",
     "output_type": "stream",
     "text": [
      "Python>=3.5 \t installed 3.5.4 |Continuum Analytics, Inc.| (default, Aug 14 2017, 13:26:58) \n",
      "[GCC 4.4.7 20120313 (Red Hat 4.4.7-1)]\n",
      "Numpy>=1.6.2 \t installed 1.16.3\n",
      "Scipy>=0.13.3 \t installed 0.19.1\n",
      "Matplotlib>2.2 \t installed 3.0.3\n",
      "Pandas>=0.22.0 \t installed 0.24.2\n",
      "Sklearn>=0.19 \t installed 0.19.0\n",
      "Seaborn>=0.7.1 \t installed 0.8.0\n",
      "OpenML>=0.8.0 \t installed 0.8.0\n",
      "TPOT>=0.10.1 \t installed 0.10.1\n",
      "H2O>=3.24.0 \t installed 3.24.0.3\n",
      "Auto-SKlearn>=0.5.2 \t installed 0.5.2\n"
     ]
    }
   ],
   "source": [
    "import warnings\n",
    "warnings.filterwarnings('ignore')\n",
    "\n",
    "import sys\n",
    "import numpy\n",
    "import scipy\n",
    "import matplotlib\n",
    "import pandas\n",
    "import sklearn\n",
    "import seaborn\n",
    "import openml\n",
    "import tpot\n",
    "import h2o\n",
    "import autosklearn\n",
    "print(\"Python>=3.5 \\t installed\",sys.version)\n",
    "print(\"Numpy>=1.6.2 \\t installed\",numpy.__version__)\n",
    "print(\"Scipy>=0.13.3 \\t installed\",scipy.__version__)\n",
    "print(\"Matplotlib>2.2 \\t installed\",matplotlib.__version__)\n",
    "print(\"Pandas>=0.22.0 \\t installed\",pandas.__version__)\n",
    "print(\"Sklearn>=0.19 \\t installed\",sklearn.__version__)\n",
    "print(\"Seaborn>=0.7.1 \\t installed\",seaborn.__version__)\n",
    "print(\"OpenML>=0.8.0 \\t installed\",openml.__version__)\n",
    "print(\"TPOT>=0.10.1 \\t installed\",tpot.__version__)\n",
    "print(\"H2O>=3.24.0 \\t installed\",h2o.__version__)\n",
    "print(\"Auto-SKlearn>=0.5.2 \\t installed\",autosklearn.__version__)"
   ]
  },
  {
   "cell_type": "code",
   "execution_count": null,
   "metadata": {
    "collapsed": true,
    "deletable": true,
    "editable": true
   },
   "outputs": [],
   "source": []
  }
 ],
 "metadata": {
  "kernelspec": {
   "display_name": "Python 3",
   "language": "python",
   "name": "python3"
  },
  "language_info": {
   "codemirror_mode": {
    "name": "ipython",
    "version": 3
   },
   "file_extension": ".py",
   "mimetype": "text/x-python",
   "name": "python",
   "nbconvert_exporter": "python",
   "pygments_lexer": "ipython3",
   "version": "3.5.4"
  }
 },
 "nbformat": 4,
 "nbformat_minor": 2
}
