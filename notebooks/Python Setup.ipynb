{
 "cells": [
  {
   "cell_type": "markdown",
   "metadata": {
    "deletable": true,
    "editable": true
   },
   "source": [
    "## Python environment setup"
   ]
  },
  {
   "cell_type": "markdown",
   "metadata": {
    "deletable": true,
    "editable": true
   },
   "source": [
    "Please run `Kernel > Restart & Run All` (in the menu bar above) to update existing libraries and import new ones.\n",
    "\n",
    "Note: This assumes a standard conda environment. You may need to install more dependencies otherwise.\n",
    "\n",
    "Note: If anything goes wrong, remove `%%capture` to see the full installation output and fix issues."
   ]
  },
  {
   "cell_type": "markdown",
   "metadata": {},
   "source": [
    "#### Python basics\n",
    "These should _just work_"
   ]
  },
  {
   "cell_type": "code",
   "execution_count": 1,
   "metadata": {
    "collapsed": false,
    "deletable": true,
    "editable": true
   },
   "outputs": [],
   "source": [
    "%%capture\n",
    "!pip install --upgrade pip\n",
    "!pip install numpy --upgrade\n",
    "!pip install scipy --upgrade\n",
    "!pip install pandas --upgrade\n",
    "!pip install matplotlib --upgrade\n",
    "# Auto-sklearn doesn't support sklearn 0.20 yet.\n",
    "!pip install scikit-learn==0.19.2\n",
    "!pip install pprint\n",
    "!pip install joblib\n",
    "!pip install pyyaml"
   ]
  },
  {
   "cell_type": "markdown",
   "metadata": {},
   "source": [
    "#### OpenML and AutoML\n",
    "These may take a little while to run"
   ]
  },
  {
   "cell_type": "code",
   "execution_count": 2,
   "metadata": {
    "collapsed": false
   },
   "outputs": [
    {
     "name": "stdout",
     "output_type": "stream",
     "text": [
      "Fetching package metadata .........\n",
      "Solving package specifications: ..........\n",
      "\n",
      "# All requested packages already installed.\n",
      "# packages in environment at /opt/conda:\n",
      "#\n",
      "swig                      3.0.10                        0  \n"
     ]
    }
   ],
   "source": [
    "# This is needed for auto-sklearn\n",
    "# If conda is not available, use !apt-get install swig -y\n",
    "!conda install swig --yes"
   ]
  },
  {
   "cell_type": "code",
   "execution_count": 3,
   "metadata": {
    "collapsed": false,
    "deletable": true,
    "editable": true
   },
   "outputs": [],
   "source": [
    "%%capture\n",
    "# OpenML\n",
    "!pip install openml\n",
    "\n",
    "# Autosklearn\n",
    "!pip install nose\n",
    "!pip install xgboost\n",
    "!pip install lockfile\n",
    "!pip install psutil\n",
    "!pip install ConfigSpace==0.4.10\n",
    "!pip install pynisher\n",
    "!pip install pyrfr==0.7.4\n",
    "!pip install smac==0.8\n",
    "!pip install auto-sklearn\n",
    "\n",
    "# TPOT\n",
    "!pip install deap\n",
    "!pip install update_checker\n",
    "!pip install tqdm\n",
    "!pip install stopit\n",
    "!pip install tpot\n",
    "\n",
    "# H2O\n",
    "!pip install h2o"
   ]
  },
  {
   "cell_type": "markdown",
   "metadata": {
    "deletable": true,
    "editable": true
   },
   "source": [
    "### Check Installed libraries. \n",
    "These should all work and the dependencies should be covered."
   ]
  },
  {
   "cell_type": "code",
   "execution_count": 4,
   "metadata": {
    "collapsed": false,
    "deletable": true,
    "editable": true
   },
   "outputs": [
    {
     "name": "stdout",
     "output_type": "stream",
     "text": [
      "Python>=3.5 \t installed 3.5.2 |Continuum Analytics, Inc.| (default, Jul  2 2016, 17:53:06) \n",
      "[GCC 4.4.7 20120313 (Red Hat 4.4.7-1)]\n",
      "Numpy>=1.6.2 \t installed 1.16.3\n",
      "Scipy>=0.13.3 \t installed 1.2.1\n",
      "Matplotlib>2.2 \t installed 3.0.3\n",
      "Pandas>=0.22.0 \t installed 0.24.2\n",
      "Sklearn>=0.19 \t installed 0.19.2\n",
      "Seaborn>=0.7.1 \t installed 0.7.1\n",
      "OpenML>=0.8.0 \t installed 0.8.0\n",
      "Auto-SKlearn>=0.5.2 \t installed 0.5.2\n",
      "TPOT>=0.10.1 \t installed 0.10.1\n",
      "H2O>=3.24.0 \t installed 3.24.0.3\n"
     ]
    }
   ],
   "source": [
    "import warnings\n",
    "warnings.filterwarnings('ignore')\n",
    "\n",
    "import sys\n",
    "import numpy\n",
    "import scipy\n",
    "import matplotlib\n",
    "import pandas\n",
    "import sklearn\n",
    "import seaborn\n",
    "import openml\n",
    "import autosklearn\n",
    "import tpot\n",
    "import h2o\n",
    "print(\"Python>=3.5 \\t installed\",sys.version)\n",
    "print(\"Numpy>=1.6.2 \\t installed\",numpy.__version__)\n",
    "print(\"Scipy>=0.13.3 \\t installed\",scipy.__version__)\n",
    "print(\"Matplotlib>2.2 \\t installed\",matplotlib.__version__)\n",
    "print(\"Pandas>=0.22.0 \\t installed\",pandas.__version__)\n",
    "print(\"Sklearn>=0.19 \\t installed\",sklearn.__version__)\n",
    "print(\"Seaborn>=0.7.1 \\t installed\",seaborn.__version__)\n",
    "print(\"OpenML>=0.8.0 \\t installed\",openml.__version__)\n",
    "print(\"Auto-SKlearn>=0.5.2 \\t installed\",autosklearn.__version__)\n",
    "print(\"TPOT>=0.10.1 \\t installed\",tpot.__version__)\n",
    "print(\"H2O>=3.24.0 \\t installed\",h2o.__version__)"
   ]
  },
  {
   "cell_type": "code",
   "execution_count": null,
   "metadata": {
    "collapsed": true
   },
   "outputs": [],
   "source": []
  }
 ],
 "metadata": {
  "kernelspec": {
   "display_name": "Python 3",
   "language": "python",
   "name": "python3"
  },
  "language_info": {
   "codemirror_mode": {
    "name": "ipython",
    "version": 3
   },
   "file_extension": ".py",
   "mimetype": "text/x-python",
   "name": "python",
   "nbconvert_exporter": "python",
   "pygments_lexer": "ipython3",
   "version": "3.7.3"
  }
 },
 "nbformat": 4,
 "nbformat_minor": 2
}
