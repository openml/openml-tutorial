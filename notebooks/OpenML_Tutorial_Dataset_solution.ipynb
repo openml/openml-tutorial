{
  "nbformat": 4,
  "nbformat_minor": 0,
  "metadata": {
    "colab": {
      "name": "OpenML Tutorial Dataset.ipynb",
      "version": "0.3.2",
      "provenance": [],
      "collapsed_sections": []
    },
    "kernelspec": {
      "display_name": "Python 3",
      "language": "python",
      "name": "python3"
    }
  },
  "cells": [
    {
      "metadata": {
        "id": "wrlV3WHw9hKF",
        "colab_type": "text",
        "slideshow": {
          "slide_type": "slide"
        }
      },
      "cell_type": "markdown",
      "source": [
        "# OpenML in Python \n",
        "OpenML is an online collaboration platform for machine learning: \n",
        "\n",
        "* Find or share interesting, well-documented datasets\n",
        "* Define research / modelling goals (tasks)\n",
        "* Explore large amounts of machine learning algorithms, with APIs in Java, R, Python\n",
        "* Log and share reproducible experiments, models, results \n",
        "* Works seamlessly with scikit-learn and other libraries\n",
        "* Large scale benchmarking, compare to state of the art"
      ]
    },
    {
      "metadata": {
        "id": "tGfVXn7q9hKG",
        "colab_type": "text",
        "slideshow": {
          "slide_type": "slide"
        }
      },
      "cell_type": "markdown",
      "source": [
        "# Installation\n",
        "\n",
        "* `pip install openml`"
      ]
    },
    {
      "metadata": {
        "id": "3QTmbvCn9r87",
        "colab_type": "code",
        "colab": {}
      },
      "cell_type": "code",
      "source": [
        "!pip install openml"
      ],
      "execution_count": 0,
      "outputs": []
    },
    {
      "metadata": {
        "id": "QWErwB4i9hKU",
        "colab_type": "text",
        "slideshow": {
          "slide_type": "subslide"
        }
      },
      "cell_type": "markdown",
      "source": [
        "### Exercise\n",
        "- Find datasets with more than 10000 examples\n",
        "- Find a dataset called 'eeg_eye_state'\n",
        "- Find all datasets with more than 50 classes"
      ]
    },
    {
      "metadata": {
        "id": "xuRd3UQBGTgr",
        "colab_type": "code",
        "colab": {}
      },
      "cell_type": "code",
      "source": [
        "# List datasets\n",
        "import openml as oml\n",
        "openml_list = oml.datasets.list_datasets()\n",
        "\n",
        "# Show a nice table\n",
        "import pandas as pd\n",
        "datalist = pd.DataFrame.from_dict(openml_list, orient='index') \n",
        "datalist = datalist[['did','name','NumberOfInstances','NumberOfFeatures','NumberOfClasses'\n",
        "]]\n",
        "print(\"First 10 of %s datasets...\" % len(datalist))\n",
        "datalist.head(n=10)"
      ],
      "execution_count": 0,
      "outputs": []
    },
    {
      "metadata": {
        "id": "nNx_FWP69hKU",
        "colab_type": "code",
        "colab": {}
      },
      "cell_type": "code",
      "source": [
        "datalist[datalist.NumberOfInstances>10000\n",
        "        ].sort_values(['NumberOfInstances']).head(n=20)"
      ],
      "execution_count": 0,
      "outputs": []
    },
    {
      "metadata": {
        "id": "L-UvsWWG9hKX",
        "colab_type": "code",
        "colab": {}
      },
      "cell_type": "code",
      "source": [
        "datalist.query('name == \"eeg-eye-state\"')"
      ],
      "execution_count": 0,
      "outputs": []
    },
    {
      "metadata": {
        "id": "gfxp_scb9hKb",
        "colab_type": "code",
        "colab": {}
      },
      "cell_type": "code",
      "source": [
        "datalist.query('NumberOfClasses > 50')"
      ],
      "execution_count": 0,
      "outputs": []
    },
    {
      "metadata": {
        "id": "xu1M33Ma9hKf",
        "colab_type": "text",
        "slideshow": {
          "slide_type": "subslide"
        }
      },
      "cell_type": "markdown",
      "source": [
        "## Download datasets\n",
        "This is done based on the dataset ID ('did')."
      ]
    },
    {
      "metadata": {
        "id": "qMSPGZF29hKf",
        "colab_type": "code",
        "colab": {}
      },
      "cell_type": "code",
      "source": [
        "dataset = oml.datasets.get_dataset(1471)\n",
        "\n",
        "# Print a summary\n",
        "print(\"This is dataset '%s', the target feature is '%s'\" % \n",
        "      (dataset.name, dataset.default_target_attribute))\n",
        "print(\"URL: %s\" % dataset.url)\n",
        "print(dataset.description[:500])"
      ],
      "execution_count": 0,
      "outputs": []
    },
    {
      "metadata": {
        "id": "lcbLwDzX9hKj",
        "colab_type": "text",
        "slideshow": {
          "slide_type": "subslide"
        }
      },
      "cell_type": "markdown",
      "source": [
        "Get the actual data.  \n",
        "Returned as numpy array, with meta-info (e.g. target feature, feature names,...)"
      ]
    },
    {
      "metadata": {
        "id": "Lqg1h96n9hKk",
        "colab_type": "code",
        "colab": {}
      },
      "cell_type": "code",
      "source": [
        "X, y, attribute_names = dataset.get_data(\n",
        "    target=dataset.default_target_attribute,\n",
        "    return_attribute_names=True,\n",
        ")\n",
        "eeg = pd.DataFrame(X, columns=attribute_names)\n",
        "eeg['class'] = y\n",
        "print(eeg[:10])"
      ],
      "execution_count": 0,
      "outputs": []
    },
    {
      "metadata": {
        "colab_type": "text",
        "id": "2Es1EZWXGkvH"
      },
      "cell_type": "markdown",
      "source": [
        "### Exercise\n",
        "- Explore the data visually"
      ]
    },
    {
      "metadata": {
        "colab_type": "code",
        "slideshow": {
          "slide_type": "skip"
        },
        "id": "ULlyEm3EGkYN",
        "colab": {}
      },
      "cell_type": "code",
      "source": [
        "%matplotlib inline\n",
        "eegs = eeg.sample(n=1000)\n",
        "_ = pd.plotting.scatter_matrix(\n",
        "    eegs.iloc[:100,:4], \n",
        "    c=eegs[:100]['class'], \n",
        "    figsize=(10, 10), \n",
        "    marker='o', \n",
        "    hist_kwds={'bins': 20}, \n",
        "    alpha=.8, \n",
        "    cmap='plasma'\n",
        ")"
      ],
      "execution_count": 0,
      "outputs": []
    },
    {
      "metadata": {
        "id": "AHZlo6vaHIrY",
        "colab_type": "code",
        "colab": {}
      },
      "cell_type": "code",
      "source": [
        ""
      ],
      "execution_count": 0,
      "outputs": []
    },
    {
      "metadata": {
        "id": "gUr122_UHUaE",
        "colab_type": "text"
      },
      "cell_type": "markdown",
      "source": [
        "# Task\n",
        "\n",
        "The function `openml.evaluation.list_evaluations(...)` returns a dictionary of evaluation records. It has several filtering functions, to keep the resulting set small (keep in mind that OpenML has almost 10 million runs, and more than a billion evaluation records). The function is documented in the [API docs](https://openml.github.io/openml-python/master/generated/openml.evaluations.list_evaluations.html#openml.evaluations.list_evaluations).IIt returns a dict mapping from `run_id` to [OpenMLEvaluation](https://openml.github.io/openml-python/master/generated/openml.OpenMLEvaluation.html#openml.OpenMLEvaluation). Examples of filters are `task`, `flow` and `function`. Note that one of these is mandatory.\n",
        "\n",
        "* Obtain a subset of 100 predictive accuracy (`predictive_accuracy`) results on the letter dataset (task id = 6).\n",
        "* Obtain a subset of 100 predictive accuracy (`predictive_accuracy`) results per task in the OpenML 100 and plot these "
      ]
    },
    {
      "metadata": {
        "id": "jMciw6FWKE4p",
        "colab_type": "code",
        "colab": {}
      },
      "cell_type": "code",
      "source": [
        "import seaborn as sns\n",
        "import pandas as pd\n",
        "import openml as oml\n",
        "\n",
        "suite = oml.study.get_study('OpenML100')\n",
        "scores = []\n",
        "for task_id in suite.tasks[:10]: # [SPEED] only first 10 tasks\n",
        "  results = oml.evaluations.list_evaluations(function='predictive_accuracy', task=[task_id], size=100)\n",
        "  # Download the tasks and plot the scores\n",
        "  for evaluation in results.values():\n",
        "    scores.append({\"flow\": evaluation.flow_name, \"score\": evaluation.value, \"task\": evaluation.data_name})\n",
        "    \n",
        "sns.violinplot(x=\"task\", y=\"score\", data=pd.DataFrame(scores), scale=\"width\", palette=\"Set3\");"
      ],
      "execution_count": 0,
      "outputs": []
    },
    {
      "metadata": {
        "id": "-l2NqTv4Q-xm",
        "colab_type": "text"
      },
      "cell_type": "markdown",
      "source": [
        "# Dataset Upload\n",
        "\n",
        "There are various ways to upload a dataset. The most convenient ways are documented in [this example](https://github.com/openml/openml-python/blob/master/examples/create_upload_tutorial.py). Most conveniently, this can be done using a [pandas dataframe](https://github.com/openml/openml-python/blob/a0ef724fec6ab31f6381d3ac2a84827ab535170d/examples/create_upload_tutorial.py#L206). Additionally, we need to create a [OpenMLDataset](https://openml.github.io/openml-python/master/generated/openml.OpenMLDataset.html#openml.OpenMLDataset) object, containing information about the dataset. Most notably, the arguments `name`, `default_target_attribute`, `attributes` and `data` need to be set.\n",
        "\n",
        "* Find your favorite dataset (on your laptop), load it as pandas dataframe and upload it to OpenML.\n",
        "* Common problem: Server returns error 131. This means that the description file was not complete. The [XSD](https://github.com/openml/OpenML/blob/master/openml_OS/views/pages/api_new/v1/xsd/openml.data.upload.xsd) for uploading the dataset hints what fields are mandatory.\n"
      ]
    },
    {
      "metadata": {
        "id": "lhh3TWuNQ9i5",
        "colab_type": "code",
        "colab": {}
      },
      "cell_type": "code",
      "source": [
        "data = [\n",
        "    ['sunny', 85, 85, 'FALSE', 'no'],\n",
        "    ['sunny', 80, 90, 'TRUE', 'no'],\n",
        "    ['overcast', 83, 86, 'FALSE', 'yes'],\n",
        "    ['rainy', 70, 96, 'FALSE', 'yes'],\n",
        "    ['rainy', 68, 80, 'FALSE', 'yes'],\n",
        "    ['rainy', 65, 70, 'TRUE', 'no'],\n",
        "    ['overcast', 64, 65, 'TRUE', 'yes'],\n",
        "    ['sunny', 72, 95, 'FALSE', 'no'],\n",
        "    ['sunny', 69, 70, 'FALSE', 'yes'],\n",
        "    ['rainy', 75, 80, 'FALSE', 'yes'],\n",
        "    ['sunny', 75, 70, 'TRUE', 'yes'],\n",
        "    ['overcast', 72, 90, 'TRUE', 'yes'],\n",
        "    ['overcast', 81, 75, 'FALSE', 'yes'],\n",
        "    ['rainy', 71, 91, 'TRUE', 'no'],\n",
        "]\n",
        "\n",
        "attribute_names = [\n",
        "    ('outlook', ['sunny', 'overcast', 'rainy']),\n",
        "    ('temperature', 'REAL'),\n",
        "    ('humidity', 'REAL'),\n",
        "    ('windy', ['TRUE', 'FALSE']),\n",
        "    ('play', ['yes', 'no']),\n",
        "]\n",
        "\n",
        "description = (\n",
        "    'The weather problem is a tiny dataset that we will use repeatedly'\n",
        "    ' to illustrate machine learning methods. Entirely fictitious, it '\n",
        "    'supposedly concerns the conditions that are suitable for playing '\n",
        "    'some unspecified game. In general, instances in a dataset are '\n",
        "    'characterized by the values of features, or attributes, that measure '\n",
        "    'different aspects of the instance. In this case there are four '\n",
        "    'attributes: outlook, temperature, humidity, and windy. '\n",
        "    'The outcome is whether to play or not.'\n",
        ")\n",
        "\n",
        "openml.config.server = 'https://test.openml.org/api/v1/xml'\n",
        "openml.config.apikey = 'd488d8afd93b32331cf6ea9d7003d4c3'\n",
        "\n",
        "df = pd.DataFrame(data, columns=[col_name for col_name, _ in attribute_names])\n",
        "# enforce the categorical column to have a categorical dtype\n",
        "df['outlook'] = df['outlook'].astype('category')\n",
        "df['windy'] = df['windy'].astype('bool')\n",
        "df['play'] = df['play'].astype('category')\n",
        "print(df.info())\n",
        "\n",
        "############################################################################\n",
        "# We enforce the column 'outlook', 'windy', and 'play' to be a categorical\n",
        "# dtype while the column 'rnd_str' is kept as a string column. Then, we can\n",
        "# call :func:`create_dataset` by passing the dataframe and fixing the parameter\n",
        "# ``attributes`` to ``'auto'``.\n",
        "\n",
        "weather_dataset = openml.datasets.create_dataset(\n",
        "    name=\"Weather\",\n",
        "    description=description,\n",
        "    default_target_attribute='play',\n",
        "    attributes='auto',\n",
        "    data=df, \n",
        "    creator=None,\n",
        "    contributor=None, \n",
        "    collection_date=None, \n",
        "    language=None, \n",
        "    licence=None, \n",
        "    ignore_attribute=None, \n",
        "    citation=None,\n",
        ")\n",
        "\n",
        "\n",
        "upload_did = weather_dataset.publish()\n",
        "print('URL for dataset: %s/data/%d' % (openml.config.server, upload_did))\n"
      ],
      "execution_count": 0,
      "outputs": []
    }
  ]
}