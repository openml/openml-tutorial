{
 "cells": [
  {
   "cell_type": "markdown",
   "metadata": {
    "nbpresent": {
     "id": "365ab75b-fb74-4fc0-9efb-ea51b2c208e6"
    },
    "slideshow": {
     "slide_type": "slide"
    }
   },
   "source": [
    "# OpenML Python Setup\n",
    "_Joaquin Vanschoren and the OpenML Team_\n",
    "\n",
    "* Check that you can run the notebooks using one of the 4 options below.\n",
    "* Create a (free) account on [OpenML](https://www.openml.org)."
   ]
  },
  {
   "cell_type": "markdown",
   "metadata": {
    "slideshow": {
     "slide_type": "slide"
    }
   },
   "source": [
    "## Prerequisites\n",
    "You will need a Python working environment with:  \n",
    "    \n",
    "* Python 3 or higher\n",
    "* numpy, scipy, matplotlib, pandas,...\n",
    "* scikit-learn 0.20 or higher (for building models)\n",
    "* jupyter (to run these notebooks)\n",
    "* openml 0.8.0 or higher"
   ]
  },
  {
   "cell_type": "markdown",
   "metadata": {
    "slideshow": {
     "slide_type": "slide"
    }
   },
   "source": [
    "### Option 1: Google Colab\n",
    "Google Colab allows you to run this notebook in your Google Drive. Hence, you can run it in your browser without installing anything.\n",
    "\n",
    "* Open [this notebook](http://goo.gl/VwbKb4)\n",
    "* Use `File > Make a copy in Drive` to create your own copy to work with."
   ]
  },
  {
   "cell_type": "markdown",
   "metadata": {
    "slideshow": {
     "slide_type": "slide"
    }
   },
   "source": [
    "### Option 2: Binder\n",
    "An open source alternative to run this notebook in your browser is _Binder_\n",
    "\n",
    "* Go to https://mybinder.org/\n",
    "* Copy-paste the repository name: https://github.com/openml/openml-tutorial\n",
    "* Click launch."
   ]
  },
  {
   "cell_type": "markdown",
   "metadata": {
    "slideshow": {
     "slide_type": "slide"
    }
   },
   "source": [
    "### Option 3: Anaconda\n",
    "The easiest way to set things up locally (especially for Windows) is to install an [Anaconda](https://www.continuum.io/downloads) environment. Choose Python 3.\n",
    "\n",
    "After installation, run the following on the commandline:\n",
    "```\n",
    "conda install numpy scipy matplotlib pandas scikit-learn seaborn pprint jupyter\n",
    "```"
   ]
  },
  {
   "cell_type": "markdown",
   "metadata": {
    "slideshow": {
     "slide_type": "slide"
    }
   },
   "source": [
    "### Option 4: pip\n",
    "\n",
    "You can also install everything via pip, ideally in a [virtual environment](http://docs.python-guide.org/en/latest/dev/virtualenvs/).\n",
    "\n",
    "After installing pip, run the following on the commandline:\n",
    "```\n",
    "pip install numpy scipy matplotlib pandas scikit-learn seaborn pprint jupyter\n",
    "```"
   ]
  },
  {
   "cell_type": "markdown",
   "metadata": {
    "slideshow": {
     "slide_type": "slide"
    }
   },
   "source": [
    "### Running the notebooks locally\n",
    "For a local setup, use git to clone the [tutorial repository](https://github.com/openml/openml-tutorial) and start jupyter notebooks.\n",
    "\n",
    "```\n",
    "git clone https://github.com/openml/openml-tutorial\n",
    "cd openml-tutorial\n",
    "jupyter notebook\n",
    "```"
   ]
  },
  {
   "cell_type": "markdown",
   "metadata": {
    "slideshow": {
     "slide_type": "slide"
    }
   },
   "source": [
    "## Installing OpenML\n",
    "You can install the OpenML API via pip. In will be pre-installed if you use Binder.\n",
    "\n",
    "In your Anaconda or custom environment, run\n",
    "``` python\n",
    "pip install openml\n",
    "```\n",
    "\n",
    "In Google colab or Jupyter, install by running (note the '!')\n",
    "``` python\n",
    "!pip install openml\n",
    "```"
   ]
  },
  {
   "cell_type": "raw",
   "metadata": {
    "collapsed": true,
    "slideshow": {
     "slide_type": "skip"
    }
   },
   "source": [
    "!pip install openml"
   ]
  },
  {
   "cell_type": "markdown",
   "metadata": {
    "nbpresent": {
     "id": "22990c96-6359-4864-bfc4-eb4c3c5a1ec1"
    },
    "slideshow": {
     "slide_type": "slide"
    }
   },
   "source": [
    "## Authentication\n",
    "\n",
    "To upload new datasets, experiments,... to the OpenML server, you first need to find your API key.\n",
    "\n",
    "* Create an OpenML account (free) on http://www.openml.org. \n",
    "* Log in, click your avatar/picture, open 'API authentication'.\n",
    "* Your API key is a secret 32-character string"
   ]
  },
  {
   "cell_type": "markdown",
   "metadata": {
    "slideshow": {
     "slide_type": "slide"
    }
   },
   "source": [
    "You can copy this API key into your code (but only if you never share it):"
   ]
  },
  {
   "cell_type": "code",
   "execution_count": 101,
   "metadata": {
    "slideshow": {
     "slide_type": "-"
    }
   },
   "outputs": [],
   "source": [
    "# Uncomment and set your OpenML key. \n",
    "import openml as oml\n",
    "#oml.config.apikey = 'YOUR_KEY'"
   ]
  },
  {
   "cell_type": "markdown",
   "metadata": {
    "slideshow": {
     "slide_type": "slide"
    }
   },
   "source": [
    "## Config file\n",
    "It is safer to set your API key in a config file. By default this is created in `~/.openml/config` and loaded when you import openml. \n",
    "\n",
    "It has the following settings (and defaults):\n",
    "\n",
    "``` python\n",
    "apikey=YOUR_KEY\n",
    "server=https://www.openml.org/api/v1\n",
    "cachedir=/HOME/.openml/cache\n",
    "verbosity=1\n",
    "confirm.upload=FALSE\n",
    "```"
   ]
  }
 ],
 "metadata": {
  "anaconda-cloud": {},
  "celltoolbar": "Slideshow",
  "colabVersion": "0.1",
  "kernelspec": {
   "display_name": "Python 3",
   "language": "python",
   "name": "python3"
  },
  "language_info": {
   "codemirror_mode": {
    "name": "ipython",
    "version": 3
   },
   "file_extension": ".py",
   "mimetype": "text/x-python",
   "name": "python",
   "nbconvert_exporter": "python",
   "pygments_lexer": "ipython3",
   "version": "3.6.4"
  }
 },
 "nbformat": 4,
 "nbformat_minor": 1
}
