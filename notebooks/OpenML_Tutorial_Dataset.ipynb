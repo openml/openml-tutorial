{
  "nbformat": 4,
  "nbformat_minor": 0,
  "metadata": {
    "colab": {
      "name": "OpenML Tutorial Dataset.ipynb",
      "version": "0.3.2",
      "provenance": [],
      "collapsed_sections": []
    },
    "kernelspec": {
      "display_name": "Python 3",
      "language": "python",
      "name": "python3"
    }
  },
  "cells": [
    {
      "metadata": {
        "id": "wrlV3WHw9hKF",
        "colab_type": "text",
        "slideshow": {
          "slide_type": "slide"
        }
      },
      "cell_type": "markdown",
      "source": [
        "# OpenML in Python \n",
        "OpenML is an online collaboration platform for machine learning: \n",
        "\n",
        "* Find or share interesting, well-documented datasets\n",
        "* Define research / modelling goals (tasks)\n",
        "* Explore large amounts of machine learning algorithms, with APIs in Java, R, Python\n",
        "* Log and share reproducible experiments, models, results \n",
        "* Works seamlessly with scikit-learn and other libraries\n",
        "* Large scale benchmarking, compare to state of the art"
      ]
    },
    {
      "metadata": {
        "id": "tGfVXn7q9hKG",
        "colab_type": "text",
        "slideshow": {
          "slide_type": "slide"
        }
      },
      "cell_type": "markdown",
      "source": [
        "# Installation\n",
        "\n",
        "* `pip install openml`"
      ]
    },
    {
      "metadata": {
        "id": "3QTmbvCn9r87",
        "colab_type": "code",
        "colab": {}
      },
      "cell_type": "code",
      "source": [
        "!pip install openml"
      ],
      "execution_count": 0,
      "outputs": []
    },
    {
      "metadata": {
        "id": "QWErwB4i9hKU",
        "colab_type": "text",
        "slideshow": {
          "slide_type": "subslide"
        }
      },
      "cell_type": "markdown",
      "source": [
        "### Exercise\n",
        "- Find datasets with more than 10000 examples\n",
        "- Find a dataset called 'eeg_eye_state'\n",
        "- Find all datasets with more than 50 classes"
      ]
    },
    {
      "metadata": {
        "id": "xuRd3UQBGTgr",
        "colab_type": "code",
        "colab": {}
      },
      "cell_type": "code",
      "source": [
        ""
      ],
      "execution_count": 0,
      "outputs": []
    },
    {
      "metadata": {
        "id": "xu1M33Ma9hKf",
        "colab_type": "text",
        "slideshow": {
          "slide_type": "subslide"
        }
      },
      "cell_type": "markdown",
      "source": [
        "## Download datasets\n",
        "This is done based on the dataset ID ('did')."
      ]
    },
    {
      "metadata": {
        "id": "qMSPGZF29hKf",
        "colab_type": "code",
        "colab": {}
      },
      "cell_type": "code",
      "source": [
        ""
      ],
      "execution_count": 0,
      "outputs": []
    },
    {
      "metadata": {
        "id": "lcbLwDzX9hKj",
        "colab_type": "text",
        "slideshow": {
          "slide_type": "subslide"
        }
      },
      "cell_type": "markdown",
      "source": [
        "Get the actual data.  \n",
        "Returned as numpy array, with meta-info (e.g. target feature, feature names,...)"
      ]
    },
    {
      "metadata": {
        "id": "Lqg1h96n9hKk",
        "colab_type": "code",
        "colab": {}
      },
      "cell_type": "code",
      "source": [
        ""
      ],
      "execution_count": 0,
      "outputs": []
    },
    {
      "metadata": {
        "colab_type": "text",
        "id": "2Es1EZWXGkvH"
      },
      "cell_type": "markdown",
      "source": [
        "### Exercise\n",
        "- Explore the data visually"
      ]
    },
    {
      "metadata": {
        "id": "AHZlo6vaHIrY",
        "colab_type": "code",
        "colab": {}
      },
      "cell_type": "code",
      "source": [
        ""
      ],
      "execution_count": 0,
      "outputs": []
    },
    {
      "metadata": {
        "id": "gUr122_UHUaE",
        "colab_type": "text"
      },
      "cell_type": "markdown",
      "source": [
        "# Task\n",
        "\n",
        "The function `openml.evaluation.list_evaluations(...)` returns a dictionary of evaluation records. It has several filtering functions, to keep the resulting set small (keep in mind that OpenML has almost 10 million runs, and more than a billion evaluation records). The function is documented in the [API docs](https://openml.github.io/openml-python/master/generated/openml.evaluations.list_evaluations.html#openml.evaluations.list_evaluations).IIt returns a dict mapping from `run_id` to [OpenMLEvaluation](https://openml.github.io/openml-python/master/generated/openml.OpenMLEvaluation.html#openml.OpenMLEvaluation). Examples of filters are `task`, `flow` and `function`. Note that one of these is mandatory.\n",
        "\n",
        "* Obtain a subset of 100 predictive accuracy (`predictive_accuracy`) results on the letter dataset (task id = 6).\n",
        "* Obtain a subset of 100 predictive accuracy (`predictive_accuracy`) results per task in the OpenML 100 and plot these "
      ]
    },
    {
      "metadata": {
        "id": "lhh3TWuNQ9i5",
        "colab_type": "code",
        "colab": {}
      },
      "cell_type": "code",
      "source": [
        ""
      ],
      "execution_count": 0,
      "outputs": []
    }
  ]
}